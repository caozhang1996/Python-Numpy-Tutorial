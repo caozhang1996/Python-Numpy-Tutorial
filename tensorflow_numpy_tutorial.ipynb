{
 "cells": [
  {
   "cell_type": "markdown",
   "metadata": {},
   "source": [
    "# tensorflow和numpy的简单学习代码"
   ]
  },
  {
   "cell_type": "code",
   "execution_count": null,
   "metadata": {},
   "outputs": [],
   "source": [
    "import tensorflow as tf\n",
    "x = tf.constant(1, dtype=tf.float32)\n",
    "y = tf.constant(2, dtype=tf.float32)\n",
    "with tf.Session() as sess:\n",
    "    print(sess.run(x) + sess.run(y))"
   ]
  },
  {
   "cell_type": "code",
   "execution_count": null,
   "metadata": {},
   "outputs": [],
   "source": [
    "import tensorflow as tf\n",
    "import numpy as np\n",
    "\n",
    "a = np.array([[1, 2, 3], [4, 5, 6]], dtype=np.int32)\n",
    "b = np.array([[7, 8], [9, 10], [11, 12]], dtype=np.int32)\n",
    "c = np.array([[7, 8, 9], [10, 11, 12]])\n",
    "print(np.matmul(a, b))            # 矩阵相乘\n",
    "print(a*c)                        # 矩阵对应元素相乘\n",
    "\n",
    "with tf.Session() as sess:\n",
    "    print(sess.run(tf.matmul(a, b)))"
   ]
  },
  {
   "cell_type": "markdown",
   "metadata": {},
   "source": [
    "# numpy api"
   ]
  },
  {
   "cell_type": "code",
   "execution_count": null,
   "metadata": {},
   "outputs": [],
   "source": [
    "import numpy as np\n",
    "a = np.array([[11, 12], [13, 14]])\n",
    "print(np.ones(shape=(2, 3)))\n",
    "print(np.ones_like(a))     # 元素为1，形状与a一样的数组\n",
    "print(np.zeros_like(a))\n",
    "print(np.full_like(a, fill_value=10))\n",
    "print(np.full(shape=(3, 1), fill_value=20, dtype=np.float))"
   ]
  },
  {
   "cell_type": "markdown",
   "metadata": {},
   "source": [
    "# 对numpy数组进行切片(提取数组的中的元素)"
   ]
  },
  {
   "cell_type": "code",
   "execution_count": null,
   "metadata": {},
   "outputs": [],
   "source": [
    "import numpy as np\n",
    "a = np.array([[1, 2, 3, 4], [5, 6, 7, 8], [9, 10, 11, 12]],dtype=np.float32)\n",
    "b = a[0:3, :2]\n",
    "print(b, b.shape)\n",
    "b[0][1] = 30     # b是a的切片，改變b中的元素即改變a中的元素\n",
    "print(a)\n",
    "\n",
    "c = np.array([[1, 2, 3, 4], [5, 6, 7, 8], [9, 10, 11, 12]])\n",
    "row_1 = c[0:2, :]\n",
    "row_2 = c[1:3, :]\n",
    "print(row_1, row_1.shape)\n",
    "print(row_2, row_2.shape)\n",
    "\n",
    "col_1 = c[:2, 0:2]\n",
    "col_2 = c[:, 2:4]\n",
    "print(col_1, col_1.shape)\n",
    "print(col_2, col_2.shape)"
   ]
  },
  {
   "cell_type": "markdown",
   "metadata": {},
   "source": [
    "# 对numpy数组进行数学运算"
   ]
  },
  {
   "cell_type": "code",
   "execution_count": null,
   "metadata": {},
   "outputs": [],
   "source": []
  },
  {
   "cell_type": "markdown",
   "metadata": {},
   "source": [
    "#  hstack 和 concat的区别"
   ]
  },
  {
   "cell_type": "code",
   "execution_count": null,
   "metadata": {},
   "outputs": [],
   "source": []
  }
 ],
 "metadata": {
  "kernelspec": {
   "display_name": "Python 3",
   "language": "python",
   "name": "python3"
  },
  "language_info": {
   "codemirror_mode": {
    "name": "ipython",
    "version": 3
   },
   "file_extension": ".py",
   "mimetype": "text/x-python",
   "name": "python",
   "nbconvert_exporter": "python",
   "pygments_lexer": "ipython3",
   "version": "3.5.2"
  }
 },
 "nbformat": 4,
 "nbformat_minor": 2
}
